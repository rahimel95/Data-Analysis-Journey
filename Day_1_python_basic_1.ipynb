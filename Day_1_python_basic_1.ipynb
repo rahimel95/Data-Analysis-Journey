{
  "nbformat": 4,
  "nbformat_minor": 0,
  "metadata": {
    "colab": {
      "provenance": []
    },
    "kernelspec": {
      "name": "python3",
      "display_name": "Python 3"
    },
    "language_info": {
      "name": "python"
    }
  },
  "cells": [
    {
      "cell_type": "markdown",
      "source": [
        "Create variables for name, age, city, and profession, and print a sentence using them.\n",
        "(Example: “My name is Ayesha, I am 25 years old, and I work as a data analyst in London.”)"
      ],
      "metadata": {
        "id": "hpal0DtI4YAL"
      }
    },
    {
      "cell_type": "code",
      "execution_count": 1,
      "metadata": {
        "colab": {
          "base_uri": "https://localhost:8080/"
        },
        "id": "iZuILVa63n0h",
        "outputId": "a913d2e7-d146-4a33-a0a4-c25549d6f1c2"
      },
      "outputs": [
        {
          "output_type": "stream",
          "name": "stdout",
          "text": [
            "My name is Ruhul, I am 29 years old, and I work as a Data Analyst in London.\n"
          ]
        }
      ],
      "source": [
        "name = \"Ruhul\"\n",
        "age = 29\n",
        "city = \"London\"\n",
        "profession= \"Data Analyst\"\n",
        "\n",
        "print(f\"My name is {name}, I am {age} years old, and I work as a {profession} in {city}.\")"
      ]
    },
    {
      "cell_type": "code",
      "source": [
        "# another way\n",
        "myself = {name:\"Ruhul\", age:29, city:\"London\", profession:\"Data Analyst\"}\n",
        "\n",
        "print(f\"My name is {myself[name]}, I am {myself[age]} years old, and I work as a {myself[profession]} in {myself[city]}.\")"
      ],
      "metadata": {
        "colab": {
          "base_uri": "https://localhost:8080/"
        },
        "id": "zGCI5vti45a5",
        "outputId": "13e34f78-ec96-4dd1-cdcc-b7842db74a60"
      },
      "execution_count": 2,
      "outputs": [
        {
          "output_type": "stream",
          "name": "stdout",
          "text": [
            "My name is Ruhul, I am 29 years old, and I work as a Data Analyst in London.\n"
          ]
        }
      ]
    },
    {
      "cell_type": "markdown",
      "source": [
        "Given a = 17 and b = 3, print:\n",
        "\n",
        "Their sum, difference, product, quotient, and remainder."
      ],
      "metadata": {
        "id": "dYqFtNYP51EF"
      }
    },
    {
      "cell_type": "code",
      "source": [
        "a = 17\n",
        "b = 3\n",
        "\n",
        "print(\"SUM = \", a+b)\n",
        "print(\"difference = \", a-b)\n",
        "print(\"product = \", a*b)\n",
        "print(\"quotient = \", a/b)\n",
        "print(\"remainder = \", a%b)"
      ],
      "metadata": {
        "colab": {
          "base_uri": "https://localhost:8080/"
        },
        "id": "w29kyFlV574x",
        "outputId": "070f1c39-fd6d-4bbc-f9ae-c2c964564a20"
      },
      "execution_count": 4,
      "outputs": [
        {
          "output_type": "stream",
          "name": "stdout",
          "text": [
            "SUM =  20\n",
            "difference =  14\n",
            "product =  51\n",
            "quotient =  5.666666666666667\n",
            "remainder =  2\n"
          ]
        }
      ]
    },
    {
      "cell_type": "markdown",
      "source": [
        "Write a program that takes user input for two numbers and prints which one is larger."
      ],
      "metadata": {
        "id": "KbtBBMLF6y9Z"
      }
    },
    {
      "cell_type": "code",
      "source": [
        "a = int(input())\n",
        "b = int(input())\n",
        "\n",
        "if a>b:\n",
        "  print(f\"{a} is larger than {b}\")\n",
        "else:\n",
        "  print(f\"{b} is larger than {a}\")\n"
      ],
      "metadata": {
        "colab": {
          "base_uri": "https://localhost:8080/"
        },
        "id": "ehUaZSuH6aCa",
        "outputId": "a5ceb39a-30dd-4a08-f063-620a62158e64"
      },
      "execution_count": 8,
      "outputs": [
        {
          "output_type": "stream",
          "name": "stdout",
          "text": [
            "20\n",
            "1\n",
            "20 is larger than 1\n"
          ]
        }
      ]
    },
    {
      "cell_type": "markdown",
      "source": [
        "Create a list of 5 numbers. Print:\n",
        "\n",
        "The first element\n",
        "\n",
        "The last element\n",
        "\n",
        "The sum of all numbers"
      ],
      "metadata": {
        "id": "ea-3ZJ7U7sOy"
      }
    },
    {
      "cell_type": "code",
      "source": [
        "list = [2,4,5,7,8]\n",
        "\n",
        "print(\"First element: \", list[0])\n",
        "print(\"Last element: \", list[-1])\n",
        "print(\"Sum if list: \", sum(list))"
      ],
      "metadata": {
        "colab": {
          "base_uri": "https://localhost:8080/"
        },
        "id": "KHA6Dhds7uXW",
        "outputId": "2ebff808-f38e-4ac7-fb13-2adbca578f54"
      },
      "execution_count": 16,
      "outputs": [
        {
          "output_type": "stream",
          "name": "stdout",
          "text": [
            "First element:  2\n",
            "Last element:  8\n",
            "Sum if list:  26\n"
          ]
        }
      ]
    },
    {
      "cell_type": "markdown",
      "source": [
        "Create a dictionary to store a student’s name, age, marks in 3 subjects, and city. Then print:\n",
        "\n",
        "The student’s name\n",
        "\n",
        "The average of the marks"
      ],
      "metadata": {
        "id": "_kxZQeUd9PkI"
      }
    },
    {
      "cell_type": "code",
      "source": [
        "student = {\"name\": \"Amin\", \"age\":\"24\", \"sub1\":84, \"sub2\":92, \"sub3\":75, \"city\":\"Dhaka\"}\n",
        "print(\"Name: \", student[\"name\"])\n",
        "print(\"Average: \", sum([student[\"sub1\"],student[\"sub2\"],student[\"sub3\"]])/3)"
      ],
      "metadata": {
        "colab": {
          "base_uri": "https://localhost:8080/"
        },
        "id": "aTjf0w_O8URp",
        "outputId": "ffe8321f-fab8-4099-b70f-c9111771de25"
      },
      "execution_count": 27,
      "outputs": [
        {
          "output_type": "stream",
          "name": "stdout",
          "text": [
            "Name:  Amin\n",
            "Average:  83.66666666666667\n"
          ]
        }
      ]
    },
    {
      "cell_type": "markdown",
      "source": [
        "Part 3 – Mini Project (≈1 hour)\n",
        "\n",
        "Project: Simple Statistical Analyzer\n",
        "\n",
        "Task:\n",
        "Write a Python program that:\n",
        "\n",
        "Takes a list of numbers (e.g., [12, 45, 67, 23, 89, 34, 22])\n",
        "\n",
        "Calculates and prints:\n",
        "\n",
        "Mean\n",
        "\n",
        "Median\n",
        "\n",
        "Mode\n",
        "\n",
        "Standard Deviation"
      ],
      "metadata": {
        "id": "9vDVLE5sB8ZV"
      }
    },
    {
      "cell_type": "code",
      "source": [
        "import random\n",
        "import statistics as stats\n",
        "data = random.sample(range(1,100),12)\n",
        "print(\"mean: \", stats.mean(data))\n",
        "print(\"median: \", stats.median(data))\n",
        "print(\"mode: \", stats.mode(data))\n",
        "print(\"Standard Deviation: \", stats.stdev(data))"
      ],
      "metadata": {
        "colab": {
          "base_uri": "https://localhost:8080/"
        },
        "id": "tI2siVmdCDFw",
        "outputId": "ccf21800-2c11-4036-f58d-604dbdd88453"
      },
      "execution_count": 29,
      "outputs": [
        {
          "output_type": "stream",
          "name": "stdout",
          "text": [
            "mean:  56.416666666666664\n",
            "median:  47.5\n",
            "mode:  97\n",
            "Standard Deviation:  34.57392168392328\n"
          ]
        }
      ]
    },
    {
      "cell_type": "code",
      "source": [],
      "metadata": {
        "id": "JBsX4Dj8CW1o"
      },
      "execution_count": null,
      "outputs": []
    }
  ]
}